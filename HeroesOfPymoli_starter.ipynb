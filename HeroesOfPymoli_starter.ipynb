{
 "cells": [
  {
   "cell_type": "markdown",
   "metadata": {},
   "source": [
    "### Note\n",
    "* Instructions have been included for each segment. You do not have to follow them exactly, but they are included to help you think through the steps."
   ]
  },
  {
   "cell_type": "code",
   "execution_count": 201,
   "metadata": {},
   "outputs": [],
   "source": [
    "# Dependencies and Setup\n",
    "import pandas as pd\n",
    "\n",
    "# File to Load (Remember to Change These)\n",
    "file_to_load = \"Resources/purchase_data.csv\"\n",
    "\n",
    "# Read Purchasing File and store into Pandas data frame\n",
    "purchase_data = pd.read_csv(file_to_load)"
   ]
  },
  {
   "cell_type": "markdown",
   "metadata": {},
   "source": [
    "## Player Count"
   ]
  },
  {
   "cell_type": "markdown",
   "metadata": {},
   "source": [
    "* Display the total number of players\n"
   ]
  },
  {
   "cell_type": "code",
   "execution_count": 202,
   "metadata": {},
   "outputs": [
    {
     "data": {
      "text/html": [
       "<div>\n",
       "<style scoped>\n",
       "    .dataframe tbody tr th:only-of-type {\n",
       "        vertical-align: middle;\n",
       "    }\n",
       "\n",
       "    .dataframe tbody tr th {\n",
       "        vertical-align: top;\n",
       "    }\n",
       "\n",
       "    .dataframe thead th {\n",
       "        text-align: right;\n",
       "    }\n",
       "</style>\n",
       "<table border=\"1\" class=\"dataframe\">\n",
       "  <thead>\n",
       "    <tr style=\"text-align: right;\">\n",
       "      <th></th>\n",
       "      <th>Total Players</th>\n",
       "    </tr>\n",
       "  </thead>\n",
       "  <tbody>\n",
       "    <tr>\n",
       "      <th>0</th>\n",
       "      <td>576</td>\n",
       "    </tr>\n",
       "  </tbody>\n",
       "</table>\n",
       "</div>"
      ],
      "text/plain": [
       "   Total Players\n",
       "0            576"
      ]
     },
     "execution_count": 202,
     "metadata": {},
     "output_type": "execute_result"
    }
   ],
   "source": [
    "total_players = len(purchase_data[\"SN\"].value_counts())\n",
    "playerCount = pd.DataFrame({\"Total Players\":[total_players]})\n",
    "playerCount"
   ]
  },
  {
   "cell_type": "markdown",
   "metadata": {},
   "source": [
    "## Purchasing Analysis (Total)"
   ]
  },
  {
   "cell_type": "markdown",
   "metadata": {},
   "source": [
    "* Run basic calculations to obtain number of unique items, average price, etc.\n",
    "\n",
    "\n",
    "* Create a summary data frame to hold the results\n",
    "\n",
    "\n",
    "* Optional: give the displayed data cleaner formatting\n",
    "\n",
    "\n",
    "* Display the summary data frame\n"
   ]
  },
  {
   "cell_type": "code",
   "execution_count": 203,
   "metadata": {
    "scrolled": true
   },
   "outputs": [
    {
     "data": {
      "text/plain": [
       "Index(['Purchase ID', 'SN', 'Age', 'Gender', 'Item ID', 'Item Name', 'Price'], dtype='object')"
      ]
     },
     "execution_count": 203,
     "metadata": {},
     "output_type": "execute_result"
    }
   ],
   "source": [
    "#Index(['Item ID', 'Number of Unique Items', 'Item Name', 'Price'], dtype='object')\n",
    "purchase_data.columns"
   ]
  },
  {
   "cell_type": "code",
   "execution_count": 204,
   "metadata": {},
   "outputs": [
    {
     "data": {
      "text/html": [
       "<div>\n",
       "<style scoped>\n",
       "    .dataframe tbody tr th:only-of-type {\n",
       "        vertical-align: middle;\n",
       "    }\n",
       "\n",
       "    .dataframe tbody tr th {\n",
       "        vertical-align: top;\n",
       "    }\n",
       "\n",
       "    .dataframe thead th {\n",
       "        text-align: right;\n",
       "    }\n",
       "</style>\n",
       "<table border=\"1\" class=\"dataframe\">\n",
       "  <thead>\n",
       "    <tr style=\"text-align: right;\">\n",
       "      <th></th>\n",
       "      <th>Number of Unique Items</th>\n",
       "      <th>Number of Purchases</th>\n",
       "      <th>Average Price</th>\n",
       "    </tr>\n",
       "  </thead>\n",
       "  <tbody>\n",
       "    <tr>\n",
       "      <th>0</th>\n",
       "      <td>179</td>\n",
       "      <td>780</td>\n",
       "      <td>$3.05</td>\n",
       "    </tr>\n",
       "  </tbody>\n",
       "</table>\n",
       "</div>"
      ],
      "text/plain": [
       "   Number of Unique Items  Number of Purchases  Average Price\n",
       "0                     179                   780         $3.05"
      ]
     },
     "execution_count": 204,
     "metadata": {},
     "output_type": "execute_result"
    }
   ],
   "source": [
    "# Calculate the number of unique items in the DataFrame\n",
    "unique_item_count = len(purchase_data[\"Item Name\"].unique())\n",
    "purchase_count = len(purchase_data[\"Purchase ID\"])\n",
    "\n",
    "#Calculate average price\n",
    "average_price = round(purchase_data[\"Price\"].mean(),2)\n",
    "average_price = \"${:.2f}\".format(average_price)\n",
    "#print(average_price)\n",
    "\n",
    "summary_df = pd.DataFrame({\"Number of Unique Items\": [unique_item_count], \"Number of Purchases \": purchase_count, \"Average Price\": average_price})\n",
    "summary_df\n",
    "\n",
    "# Calculate the total number of purchases for the entire dataset\n",
    "# Hint: use the pandas' sum() method to get the sum for each row\n",
    "#purchase_data['Price'] = purchase_data.iloc[:, 780:].sum(axis=1)\n",
    "#Purchase_ID = sum(purchase_data['Purchase ID'])\n",
    "\n",
    "\n",
    "# Get total all values in column total revenue of the DataFrame\n",
    "#Total_Revenue = purchase_data['Price'].sum()\n",
    "#print(Total_Revenue)\n",
    "\n",
    "# Select column 'Price' using loc[] and calculate sum of all\n",
    "# values in that column\n",
    "#revenue = purchase_data.loc[:, 'Price'].sum()\n",
    "#print(revenue)\n",
    "\n"
   ]
  },
  {
   "cell_type": "code",
   "execution_count": 205,
   "metadata": {},
   "outputs": [
    {
     "data": {
      "text/html": [
       "<div>\n",
       "<style scoped>\n",
       "    .dataframe tbody tr th:only-of-type {\n",
       "        vertical-align: middle;\n",
       "    }\n",
       "\n",
       "    .dataframe tbody tr th {\n",
       "        vertical-align: top;\n",
       "    }\n",
       "\n",
       "    .dataframe thead th {\n",
       "        text-align: right;\n",
       "    }\n",
       "</style>\n",
       "<table border=\"1\" class=\"dataframe\">\n",
       "  <thead>\n",
       "    <tr style=\"text-align: right;\">\n",
       "      <th></th>\n",
       "      <th>Number of Unique Items</th>\n",
       "      <th>Number of Purchases</th>\n",
       "      <th>Average Price</th>\n",
       "      <th>Total Revenue</th>\n",
       "    </tr>\n",
       "  </thead>\n",
       "  <tbody>\n",
       "    <tr>\n",
       "      <th>0</th>\n",
       "      <td>179</td>\n",
       "      <td>780</td>\n",
       "      <td>$3.05</td>\n",
       "      <td>$2379.77</td>\n",
       "    </tr>\n",
       "  </tbody>\n",
       "</table>\n",
       "</div>"
      ],
      "text/plain": [
       "   Number of Unique Items  Number of Purchases  Average Price Total Revenue\n",
       "0                     179                   780         $3.05      $2379.77"
      ]
     },
     "execution_count": 205,
     "metadata": {},
     "output_type": "execute_result"
    }
   ],
   "source": [
    "# Select column 'Price' using loc[] and calculate sum of all\n",
    "# values in that column\n",
    "revenue = purchase_data.loc[:, 'Price'].sum()\n",
    "revenue = \"${:.2f}\".format(revenue)\n",
    "#.style.format('${0:,.2f}'))\n",
    "\n",
    "summary_df = pd.DataFrame({\"Number of Unique Items\": [unique_item_count], \"Number of Purchases \": purchase_count, \"Average Price\": average_price, \"Total Revenue\": revenue})\n",
    "summary_df"
   ]
  },
  {
   "cell_type": "markdown",
   "metadata": {},
   "source": [
    "## Gender Demographics"
   ]
  },
  {
   "cell_type": "markdown",
   "metadata": {},
   "source": [
    "* Percentage and Count of Male Players\n",
    "\n",
    "\n",
    "* Percentage and Count of Female Players\n",
    "\n",
    "\n",
    "* Percentage and Count of Other / Non-Disclosed\n",
    "\n",
    "\n"
   ]
  },
  {
   "cell_type": "code",
   "execution_count": 206,
   "metadata": {},
   "outputs": [
    {
     "name": "stdout",
     "output_type": "stream",
     "text": [
      "('The total number of male players is:', 652)\n",
      "('The total number of female players is:', 113)\n",
      "('The total number of other/non-disclosed players is:', 15)\n",
      "Gender\n",
      "Female                    81\n",
      "Male                     484\n",
      "Other / Non-Disclosed     11\n",
      "Name: SN, dtype: int64\n"
     ]
    }
   ],
   "source": [
    "purchase_data.head()\n",
    "\n",
    "male_count = purchase_data[purchase_data['Gender']=='Male']\n",
    "maleIndex = male_count.index\n",
    "maleCount = len(maleIndex)\n",
    "themaleCount = \"The total number of male players is:\", maleCount\n",
    "\n",
    "\n",
    "female_count = purchase_data[purchase_data['Gender']=='Female']\n",
    "femaleIndex = female_count.index\n",
    "femaleCount = len(femaleIndex)\n",
    "thefemaleCount = \"The total number of female players is:\", femaleCount\n",
    "\n",
    "other_count = purchase_data[purchase_data['Gender']=='Other / Non-Disclosed']\n",
    "otherIndex = other_count.index\n",
    "otherCount = len(otherIndex)\n",
    "theotherCount = \"The total number of other/non-disclosed players is:\", otherCount\n",
    "\n",
    "print(themaleCount)\n",
    "print(thefemaleCount)\n",
    "print(theotherCount)\n",
    "\n",
    "gender_stats = purchase_data.groupby(\"Gender\")\n",
    "total_count_gender = gender_stats.nunique()[\"SN\"]\n",
    "print(total_count_gender)\n",
    "\n",
    "percent_players = total_count_gender / total_players * 100"
   ]
  },
  {
   "cell_type": "code",
   "execution_count": 208,
   "metadata": {},
   "outputs": [
    {
     "name": "stdout",
     "output_type": "stream",
     "text": [
      "83.59%\n",
      "14.49%\n",
      "1.92%\n"
     ]
    }
   ],
   "source": [
    "#calculate the percentage of different gender players\n",
    "percent_male = \"{:.2%}\".format(maleCount/(maleCount + femaleCount + otherCount))\n",
    "percent_female = \"{:.2%}\".format(femaleCount/(maleCount + femaleCount + otherCount))\n",
    "percent_other = \"{:.2%}\".format(otherCount/(maleCount + femaleCount + otherCount))\n",
    "\n",
    "\n",
    "\n",
    "print(percent_male)\n",
    "print(percent_female)\n",
    "print(percent_other)"
   ]
  },
  {
   "cell_type": "code",
   "execution_count": 209,
   "metadata": {},
   "outputs": [
    {
     "data": {
      "text/html": [
       "<div>\n",
       "<style scoped>\n",
       "    .dataframe tbody tr th:only-of-type {\n",
       "        vertical-align: middle;\n",
       "    }\n",
       "\n",
       "    .dataframe tbody tr th {\n",
       "        vertical-align: top;\n",
       "    }\n",
       "\n",
       "    .dataframe thead th {\n",
       "        text-align: right;\n",
       "    }\n",
       "</style>\n",
       "<table border=\"1\" class=\"dataframe\">\n",
       "  <thead>\n",
       "    <tr style=\"text-align: right;\">\n",
       "      <th></th>\n",
       "      <th>Gender</th>\n",
       "      <th>Total Count</th>\n",
       "      <th>Percentage of Players</th>\n",
       "    </tr>\n",
       "  </thead>\n",
       "  <tbody>\n",
       "    <tr>\n",
       "      <th>0</th>\n",
       "      <td>Male</td>\n",
       "      <td>484</td>\n",
       "      <td>83.59%</td>\n",
       "    </tr>\n",
       "    <tr>\n",
       "      <th>1</th>\n",
       "      <td>Female</td>\n",
       "      <td>81</td>\n",
       "      <td>14.49%</td>\n",
       "    </tr>\n",
       "    <tr>\n",
       "      <th>2</th>\n",
       "      <td>Other / Non-Disclosed</td>\n",
       "      <td>11</td>\n",
       "      <td>1.92%</td>\n",
       "    </tr>\n",
       "  </tbody>\n",
       "</table>\n",
       "</div>"
      ],
      "text/plain": [
       "                  Gender  Total Count Percentage of Players\n",
       "0                   Male          484                83.59%\n",
       "1                 Female           81                14.49%\n",
       "2  Other / Non-Disclosed           11                 1.92%"
      ]
     },
     "execution_count": 209,
     "metadata": {},
     "output_type": "execute_result"
    }
   ],
   "source": [
    "gender_df = pd.DataFrame({\n",
    "    \"Gender\": [\"Male\", \"Female\", \"Other / Non-Disclosed\"],\n",
    "    \"Total Count\": [484, 81, 11],\n",
    "    \"Percentage of Players\": [percent_male, percent_female, percent_other]})\n",
    "gender_df"
   ]
  },
  {
   "cell_type": "markdown",
   "metadata": {},
   "source": [
    "\n",
    "## Purchasing Analysis (Gender)"
   ]
  },
  {
   "cell_type": "markdown",
   "metadata": {},
   "source": [
    "* Run basic calculations to obtain purchase count, avg. purchase price, avg. purchase total per person etc. by gender\n",
    "\n",
    "\n",
    "\n",
    "\n",
    "* Create a summary data frame to hold the results\n",
    "\n",
    "\n",
    "* Optional: give the displayed data cleaner formatting\n",
    "\n",
    "\n",
    "* Display the summary data frame"
   ]
  },
  {
   "cell_type": "code",
   "execution_count": 232,
   "metadata": {},
   "outputs": [],
   "source": [
    "#average male purchase price\n",
    "average_male_purchase_price = purchase_data.loc[purchase_data[\"Gender\"] == \"Male\", [\"Price\"]].mean()\n",
    "\n",
    "#print(average_male_purchase_price)\n",
    "#print(average_male_purchase_price.values)\n",
    "\n",
    "\n",
    "#total male purchase value\n",
    "total_male_purchase_value = purchase_data.loc[purchase_data[\"Gender\"] == \"Male\", [\"Price\"]].sum()\n",
    "#print(total_male_purchase_value)\n",
    "#print(total_male_purchase_value.values)\n",
    "\n",
    "#average female purchase price\n",
    "average_female_purchase_price = purchase_data.loc[purchase_data[\"Gender\"] == \"Female\", [\"Price\"]].mean()\n",
    "#print(average_female_purchase_price)\n",
    "#print(average_female_purchase_price.values)\n",
    "\n",
    "#total female purchase value\n",
    "total_female_purchase_value = purchase_data.loc[purchase_data[\"Gender\"] == \"Female\", [\"Price\"]].sum()\n",
    "#print(total_female_purchase_value.values)\n",
    "\n",
    "#average other purchase price\n",
    "average_other_purchase_price = purchase_data.loc[purchase_data[\"Gender\"] == \"Other / Non-Disclosed\", [\"Price\"]].mean()\n",
    "#print(average_other_purchase_price.values)\n",
    "\n",
    "#total other purchase value\n",
    "total_other_purchase_value = purchase_data.loc[purchase_data[\"Gender\"] == \"Other / Non-Disclosed\", [\"Price\"]].sum()\n",
    "#print(total_other_purchase_value.values)\n",
    "\n",
    "\n",
    "purchase_count = gender_stats[\"Purchase ID\"].count()\n",
    "\n",
    "average_purchase_price_gender = gender_stats[\"Price\"].mean()\n",
    "\n",
    "average_purchse_total_gender = gender_stats[\"Price\"].sum()\n",
    "#print(average_purchse_total_gender)\n",
    "average_purchase_perPerson = average_purchse_total_gender / total_count_gender\n"
   ]
  },
  {
   "cell_type": "code",
   "execution_count": 319,
   "metadata": {},
   "outputs": [
    {
     "data": {
      "text/html": [
       "<div>\n",
       "<style scoped>\n",
       "    .dataframe tbody tr th:only-of-type {\n",
       "        vertical-align: middle;\n",
       "    }\n",
       "\n",
       "    .dataframe tbody tr th {\n",
       "        vertical-align: top;\n",
       "    }\n",
       "\n",
       "    .dataframe thead th {\n",
       "        text-align: right;\n",
       "    }\n",
       "</style>\n",
       "<table border=\"1\" class=\"dataframe\">\n",
       "  <thead>\n",
       "    <tr style=\"text-align: right;\">\n",
       "      <th></th>\n",
       "      <th>Gender</th>\n",
       "      <th>Purchase Count</th>\n",
       "      <th>Average Purchase Price</th>\n",
       "      <th>Total Purchase Value</th>\n",
       "      <th>Average Total Purchase per Person</th>\n",
       "    </tr>\n",
       "    <tr>\n",
       "      <th>Gender</th>\n",
       "      <th></th>\n",
       "      <th></th>\n",
       "      <th></th>\n",
       "      <th></th>\n",
       "      <th></th>\n",
       "    </tr>\n",
       "  </thead>\n",
       "  <tbody>\n",
       "    <tr>\n",
       "      <th>Female</th>\n",
       "      <td>Female</td>\n",
       "      <td>113</td>\n",
       "      <td>3.203009</td>\n",
       "      <td>361.94</td>\n",
       "      <td>4.468395</td>\n",
       "    </tr>\n",
       "    <tr>\n",
       "      <th>Male</th>\n",
       "      <td>Male</td>\n",
       "      <td>652</td>\n",
       "      <td>3.017853</td>\n",
       "      <td>1967.64</td>\n",
       "      <td>4.065372</td>\n",
       "    </tr>\n",
       "    <tr>\n",
       "      <th>Other / Non-Disclosed</th>\n",
       "      <td>Other/Non-Disclosed</td>\n",
       "      <td>15</td>\n",
       "      <td>3.346000</td>\n",
       "      <td>50.19</td>\n",
       "      <td>4.562727</td>\n",
       "    </tr>\n",
       "  </tbody>\n",
       "</table>\n",
       "</div>"
      ],
      "text/plain": [
       "                                    Gender  Purchase Count  \\\n",
       "Gender                                                       \n",
       "Female                              Female             113   \n",
       "Male                                  Male             652   \n",
       "Other / Non-Disclosed  Other/Non-Disclosed              15   \n",
       "\n",
       "                       Average Purchase Price  Total Purchase Value  \\\n",
       "Gender                                                                \n",
       "Female                               3.203009                361.94   \n",
       "Male                                 3.017853               1967.64   \n",
       "Other / Non-Disclosed                3.346000                 50.19   \n",
       "\n",
       "                       Average Total Purchase per Person  \n",
       "Gender                                                    \n",
       "Female                                          4.468395  \n",
       "Male                                            4.065372  \n",
       "Other / Non-Disclosed                           4.562727  "
      ]
     },
     "execution_count": 319,
     "metadata": {},
     "output_type": "execute_result"
    }
   ],
   "source": [
    "gender_purchase_df = pd.DataFrame({\n",
    "    \"Gender\": [\"Female\", \"Male\", \"Other/Non-Disclosed\"],\n",
    "    \"Purchase Count\": [113, 652, 15],\n",
    "    \"Average Purchase Price\": average_purchase_price_gender,\n",
    "    \"Total Purchase Value\": average_purchse_total_gender,\n",
    "    \"Average Total Purchase per Person\": average_purchase_perPerson\n",
    "})\n",
    "\n",
    "\n",
    "\n",
    "\n",
    "gender_purchase_df.style.format({\"Average Purchase Price\":\"${:,.2f}\",\n",
    "                                  \"Average Purchase Value\":\"${:,.2f}\",\n",
    "                                  \"Avg Purchase Total per Person\":\"${:,.2f}\"})\n",
    "\n",
    "gender_purchase_df"
   ]
  },
  {
   "cell_type": "markdown",
   "metadata": {},
   "source": [
    "## Age Demographics"
   ]
  },
  {
   "cell_type": "markdown",
   "metadata": {},
   "source": [
    "* Establish bins for ages\n",
    "\n",
    "\n",
    "* Categorize the existing players using the age bins. Hint: use pd.cut()\n",
    "\n",
    "\n",
    "* Calculate the numbers and percentages by age group\n",
    "\n",
    "\n",
    "* Create a summary data frame to hold the results\n",
    "\n",
    "\n",
    "* Optional: round the percentage column to two decimal points\n",
    "\n",
    "\n",
    "* Display Age Demographics Table\n"
   ]
  },
  {
   "cell_type": "code",
   "execution_count": 364,
   "metadata": {},
   "outputs": [
    {
     "data": {
      "text/html": [
       "<style  type=\"text/css\" >\n",
       "</style><table id=\"T_3d4e5172_7f8a_11eb_a087_8c8590b1688d\" ><thead>    <tr>        <th class=\"blank level0\" ></th>        <th class=\"col_heading level0 col0\" >Total Count</th>        <th class=\"col_heading level0 col1\" >Percentage of Players</th>    </tr>    <tr>        <th class=\"index_name level0\" >Age Group</th>        <th class=\"blank\" ></th>        <th class=\"blank\" ></th>    </tr></thead><tbody>\n",
       "                <tr>\n",
       "                        <th id=\"T_3d4e5172_7f8a_11eb_a087_8c8590b1688dlevel0_row0\" class=\"row_heading level0 row0\" ><10</th>\n",
       "                        <td id=\"T_3d4e5172_7f8a_11eb_a087_8c8590b1688drow0_col0\" class=\"data row0 col0\" >17</td>\n",
       "                        <td id=\"T_3d4e5172_7f8a_11eb_a087_8c8590b1688drow0_col1\" class=\"data row0 col1\" >2.95%</td>\n",
       "            </tr>\n",
       "            <tr>\n",
       "                        <th id=\"T_3d4e5172_7f8a_11eb_a087_8c8590b1688dlevel0_row1\" class=\"row_heading level0 row1\" >10-14</th>\n",
       "                        <td id=\"T_3d4e5172_7f8a_11eb_a087_8c8590b1688drow1_col0\" class=\"data row1 col0\" >22</td>\n",
       "                        <td id=\"T_3d4e5172_7f8a_11eb_a087_8c8590b1688drow1_col1\" class=\"data row1 col1\" >3.82%</td>\n",
       "            </tr>\n",
       "            <tr>\n",
       "                        <th id=\"T_3d4e5172_7f8a_11eb_a087_8c8590b1688dlevel0_row2\" class=\"row_heading level0 row2\" >15-19</th>\n",
       "                        <td id=\"T_3d4e5172_7f8a_11eb_a087_8c8590b1688drow2_col0\" class=\"data row2 col0\" >107</td>\n",
       "                        <td id=\"T_3d4e5172_7f8a_11eb_a087_8c8590b1688drow2_col1\" class=\"data row2 col1\" >18.58%</td>\n",
       "            </tr>\n",
       "            <tr>\n",
       "                        <th id=\"T_3d4e5172_7f8a_11eb_a087_8c8590b1688dlevel0_row3\" class=\"row_heading level0 row3\" >20-24</th>\n",
       "                        <td id=\"T_3d4e5172_7f8a_11eb_a087_8c8590b1688drow3_col0\" class=\"data row3 col0\" >258</td>\n",
       "                        <td id=\"T_3d4e5172_7f8a_11eb_a087_8c8590b1688drow3_col1\" class=\"data row3 col1\" >44.79%</td>\n",
       "            </tr>\n",
       "            <tr>\n",
       "                        <th id=\"T_3d4e5172_7f8a_11eb_a087_8c8590b1688dlevel0_row4\" class=\"row_heading level0 row4\" >25-29</th>\n",
       "                        <td id=\"T_3d4e5172_7f8a_11eb_a087_8c8590b1688drow4_col0\" class=\"data row4 col0\" >77</td>\n",
       "                        <td id=\"T_3d4e5172_7f8a_11eb_a087_8c8590b1688drow4_col1\" class=\"data row4 col1\" >13.37%</td>\n",
       "            </tr>\n",
       "            <tr>\n",
       "                        <th id=\"T_3d4e5172_7f8a_11eb_a087_8c8590b1688dlevel0_row5\" class=\"row_heading level0 row5\" >30-34</th>\n",
       "                        <td id=\"T_3d4e5172_7f8a_11eb_a087_8c8590b1688drow5_col0\" class=\"data row5 col0\" >52</td>\n",
       "                        <td id=\"T_3d4e5172_7f8a_11eb_a087_8c8590b1688drow5_col1\" class=\"data row5 col1\" >9.03%</td>\n",
       "            </tr>\n",
       "            <tr>\n",
       "                        <th id=\"T_3d4e5172_7f8a_11eb_a087_8c8590b1688dlevel0_row6\" class=\"row_heading level0 row6\" >35-39</th>\n",
       "                        <td id=\"T_3d4e5172_7f8a_11eb_a087_8c8590b1688drow6_col0\" class=\"data row6 col0\" >31</td>\n",
       "                        <td id=\"T_3d4e5172_7f8a_11eb_a087_8c8590b1688drow6_col1\" class=\"data row6 col1\" >5.38%</td>\n",
       "            </tr>\n",
       "            <tr>\n",
       "                        <th id=\"T_3d4e5172_7f8a_11eb_a087_8c8590b1688dlevel0_row7\" class=\"row_heading level0 row7\" >40+</th>\n",
       "                        <td id=\"T_3d4e5172_7f8a_11eb_a087_8c8590b1688drow7_col0\" class=\"data row7 col0\" >12</td>\n",
       "                        <td id=\"T_3d4e5172_7f8a_11eb_a087_8c8590b1688drow7_col1\" class=\"data row7 col1\" >2.08%</td>\n",
       "            </tr>\n",
       "    </tbody></table>"
      ],
      "text/plain": [
       "<pandas.io.formats.style.Styler at 0x7fa75f28ebb0>"
      ]
     },
     "execution_count": 364,
     "metadata": {},
     "output_type": "execute_result"
    }
   ],
   "source": [
    "bins = [0, 9.9, 14.9, 19.9, 24.9, 29.9, 34.9, 39.9, 999]\n",
    "agelabels = [\"<10\", \"10-14\", \"15-19\", \"20-24\", \"25-29\", \"30-34\", \"35-39\", \"40+\"]\n",
    "\n",
    "sliced = pd.cut(purchase_data[\"Age\"], bins, labels=agelabels, include_lowest=True)\n",
    "purchase_data[\"Age Group\"] = sliced\n",
    "purchase_data.head()\n",
    "\n",
    "ageGrouped = purchase_data.groupby(\"Age Group\")\n",
    "ageGrouped\n",
    "\n",
    "ageCount = ageGrouped[\"SN\"].nunique()\n",
    "ageCount\n",
    "\n",
    "age_percent = (ageCount / total_players) * 100\n",
    "\n",
    "ageDemographs = pd.DataFrame({\"Total Count\": ageCount, \"Percentage of Players\": age_percent})\n",
    "\n",
    "ageDemographs.style.format({\"Percentage of Players\": \"{:,.2f}%\"})"
   ]
  },
  {
   "cell_type": "markdown",
   "metadata": {},
   "source": [
    "## Purchasing Analysis (Age)"
   ]
  },
  {
   "cell_type": "markdown",
   "metadata": {},
   "source": [
    "* Bin the purchase_data data frame by age\n",
    "\n",
    "\n",
    "* Run basic calculations to obtain purchase count, avg. purchase price, avg. purchase total per person etc. in the table below\n",
    "\n",
    "\n",
    "* Create a summary data frame to hold the results\n",
    "\n",
    "\n",
    "* Optional: give the displayed data cleaner formatting\n",
    "\n",
    "\n",
    "* Display the summary data frame"
   ]
  },
  {
   "cell_type": "code",
   "execution_count": 375,
   "metadata": {},
   "outputs": [
    {
     "data": {
      "text/html": [
       "<div>\n",
       "<style scoped>\n",
       "    .dataframe tbody tr th:only-of-type {\n",
       "        vertical-align: middle;\n",
       "    }\n",
       "\n",
       "    .dataframe tbody tr th {\n",
       "        vertical-align: top;\n",
       "    }\n",
       "\n",
       "    .dataframe thead th {\n",
       "        text-align: right;\n",
       "    }\n",
       "</style>\n",
       "<table border=\"1\" class=\"dataframe\">\n",
       "  <thead>\n",
       "    <tr style=\"text-align: right;\">\n",
       "      <th></th>\n",
       "      <th>Purchase Count</th>\n",
       "      <th>Average Purchase Price</th>\n",
       "      <th>Total Purchase Value</th>\n",
       "      <th>Average Total Purchase per Person</th>\n",
       "    </tr>\n",
       "    <tr>\n",
       "      <th>Age Group</th>\n",
       "      <th></th>\n",
       "      <th></th>\n",
       "      <th></th>\n",
       "      <th></th>\n",
       "    </tr>\n",
       "  </thead>\n",
       "  <tbody>\n",
       "    <tr>\n",
       "      <th>&lt;10</th>\n",
       "      <td>23</td>\n",
       "      <td>3.353478</td>\n",
       "      <td>77.13</td>\n",
       "      <td>4.537059</td>\n",
       "    </tr>\n",
       "    <tr>\n",
       "      <th>10-14</th>\n",
       "      <td>28</td>\n",
       "      <td>2.956429</td>\n",
       "      <td>82.78</td>\n",
       "      <td>3.762727</td>\n",
       "    </tr>\n",
       "    <tr>\n",
       "      <th>15-19</th>\n",
       "      <td>136</td>\n",
       "      <td>3.035956</td>\n",
       "      <td>412.89</td>\n",
       "      <td>3.858785</td>\n",
       "    </tr>\n",
       "    <tr>\n",
       "      <th>20-24</th>\n",
       "      <td>365</td>\n",
       "      <td>3.052219</td>\n",
       "      <td>1114.06</td>\n",
       "      <td>4.318062</td>\n",
       "    </tr>\n",
       "    <tr>\n",
       "      <th>25-29</th>\n",
       "      <td>101</td>\n",
       "      <td>2.900990</td>\n",
       "      <td>293.00</td>\n",
       "      <td>3.805195</td>\n",
       "    </tr>\n",
       "    <tr>\n",
       "      <th>30-34</th>\n",
       "      <td>73</td>\n",
       "      <td>2.931507</td>\n",
       "      <td>214.00</td>\n",
       "      <td>4.115385</td>\n",
       "    </tr>\n",
       "    <tr>\n",
       "      <th>35-39</th>\n",
       "      <td>41</td>\n",
       "      <td>3.601707</td>\n",
       "      <td>147.67</td>\n",
       "      <td>4.763548</td>\n",
       "    </tr>\n",
       "    <tr>\n",
       "      <th>40+</th>\n",
       "      <td>13</td>\n",
       "      <td>2.941538</td>\n",
       "      <td>38.24</td>\n",
       "      <td>3.186667</td>\n",
       "    </tr>\n",
       "  </tbody>\n",
       "</table>\n",
       "</div>"
      ],
      "text/plain": [
       "           Purchase Count  Average Purchase Price  Total Purchase Value  \\\n",
       "Age Group                                                                 \n",
       "<10                    23                3.353478                 77.13   \n",
       "10-14                  28                2.956429                 82.78   \n",
       "15-19                 136                3.035956                412.89   \n",
       "20-24                 365                3.052219               1114.06   \n",
       "25-29                 101                2.900990                293.00   \n",
       "30-34                  73                2.931507                214.00   \n",
       "35-39                  41                3.601707                147.67   \n",
       "40+                    13                2.941538                 38.24   \n",
       "\n",
       "           Average Total Purchase per Person  \n",
       "Age Group                                     \n",
       "<10                                 4.537059  \n",
       "10-14                               3.762727  \n",
       "15-19                               3.858785  \n",
       "20-24                               4.318062  \n",
       "25-29                               3.805195  \n",
       "30-34                               4.115385  \n",
       "35-39                               4.763548  \n",
       "40+                                 3.186667  "
      ]
     },
     "execution_count": 375,
     "metadata": {},
     "output_type": "execute_result"
    }
   ],
   "source": [
    "#ageSummary = ageGrouped.mean()\n",
    "#ageSummary[\"Number of Ages\"] = ageCount\n",
    "#ageSummary\n",
    "\n",
    "purchase_countByAge = ageGrouped[\"Purchase ID\"].count()\n",
    "average_purchase_priceByAge = ageGrouped[\"Price\"].mean()\n",
    "total_purchase_valueByAge = ageGrouped[\"Price\"].sum()\n",
    "av_total_purchase_per_personByAge = total_purchase_valueByAge / ageCount\n",
    "\n",
    "purchase_Analysis = pd.DataFrame({\n",
    "    \"Purchase Count\": purchase_countByAge,\n",
    "    \"Average Purchase Price\": average_purchase_priceByAge,\n",
    "    \"Total Purchase Value\": total_purchase_valueByAge,\n",
    "    \"Average Total Purchase per Person\": av_total_purchase_per_personByAge\n",
    "})\n",
    "purchase_Analysis.style.format({\"Average Purchase Price\": \"${:,.2f}\",\n",
    "                                \"Total Purchase Value\": \"${:,.2f}\",\n",
    "                                \"Average Total Purchase per Person\": \"${:,.2f}\"})\n",
    "purchase_Analysis"
   ]
  },
  {
   "cell_type": "markdown",
   "metadata": {},
   "source": [
    "## Top Spenders"
   ]
  },
  {
   "cell_type": "markdown",
   "metadata": {},
   "source": [
    "* Run basic calculations to obtain the results in the table below\n",
    "\n",
    "\n",
    "* Create a summary data frame to hold the results\n",
    "\n",
    "\n",
    "* Sort the total purchase value column in descending order\n",
    "\n",
    "\n",
    "* Optional: give the displayed data cleaner formatting\n",
    "\n",
    "\n",
    "* Display a preview of the summary data frame\n",
    "\n"
   ]
  },
  {
   "cell_type": "code",
   "execution_count": 433,
   "metadata": {},
   "outputs": [
    {
     "data": {
      "text/html": [
       "<div>\n",
       "<style scoped>\n",
       "    .dataframe tbody tr th:only-of-type {\n",
       "        vertical-align: middle;\n",
       "    }\n",
       "\n",
       "    .dataframe tbody tr th {\n",
       "        vertical-align: top;\n",
       "    }\n",
       "\n",
       "    .dataframe thead th {\n",
       "        text-align: right;\n",
       "    }\n",
       "</style>\n",
       "<table border=\"1\" class=\"dataframe\">\n",
       "  <thead>\n",
       "    <tr style=\"text-align: right;\">\n",
       "      <th></th>\n",
       "      <th>Purchase Count</th>\n",
       "      <th>Average Purchase Price</th>\n",
       "      <th>Total Purchase Value</th>\n",
       "    </tr>\n",
       "    <tr>\n",
       "      <th>SN</th>\n",
       "      <th></th>\n",
       "      <th></th>\n",
       "      <th></th>\n",
       "    </tr>\n",
       "  </thead>\n",
       "  <tbody>\n",
       "    <tr>\n",
       "      <th>Lisosia93</th>\n",
       "      <td>5</td>\n",
       "      <td>3.792000</td>\n",
       "      <td>18.96</td>\n",
       "    </tr>\n",
       "    <tr>\n",
       "      <th>Idastidru52</th>\n",
       "      <td>4</td>\n",
       "      <td>3.862500</td>\n",
       "      <td>15.45</td>\n",
       "    </tr>\n",
       "    <tr>\n",
       "      <th>Chamjask73</th>\n",
       "      <td>3</td>\n",
       "      <td>4.610000</td>\n",
       "      <td>13.83</td>\n",
       "    </tr>\n",
       "    <tr>\n",
       "      <th>Iral74</th>\n",
       "      <td>4</td>\n",
       "      <td>3.405000</td>\n",
       "      <td>13.62</td>\n",
       "    </tr>\n",
       "    <tr>\n",
       "      <th>Iskadarya95</th>\n",
       "      <td>3</td>\n",
       "      <td>4.366667</td>\n",
       "      <td>13.10</td>\n",
       "    </tr>\n",
       "  </tbody>\n",
       "</table>\n",
       "</div>"
      ],
      "text/plain": [
       "             Purchase Count  Average Purchase Price  Total Purchase Value\n",
       "SN                                                                       \n",
       "Lisosia93                 5                3.792000                 18.96\n",
       "Idastidru52               4                3.862500                 15.45\n",
       "Chamjask73                3                4.610000                 13.83\n",
       "Iral74                    4                3.405000                 13.62\n",
       "Iskadarya95               3                4.366667                 13.10"
      ]
     },
     "execution_count": 433,
     "metadata": {},
     "output_type": "execute_result"
    }
   ],
   "source": [
    "spenders = purchase_data.groupby(\"SN\")\n",
    "\n",
    "purchase_spenderCount = spenders[\"Purchase ID\"].count()\n",
    "\n",
    "av_purchase_priceSpender = spenders[\"Price\"].mean()\n",
    "\n",
    "total_purchase_valueSpender = spenders[\"Price\"].sum()\n",
    "\n",
    "the_Spenders = pd.DataFrame({\n",
    "    \"Purchase Count\": purchase_spenderCount,\n",
    "    \"Average Purchase Price\": av_purchase_priceSpender,\n",
    "    \"Total Purchase Value\": total_purchase_valueSpender\n",
    "})\n",
    "#the_Spenders.head()\n",
    "\n",
    "#sorting by top spender\n",
    "top_Spenders = the_Spenders.sort_values(\"Total Purchase Value\", ascending=False)\n",
    "top_Spenders.head()"
   ]
  },
  {
   "cell_type": "markdown",
   "metadata": {},
   "source": [
    "## Most Popular Items"
   ]
  },
  {
   "cell_type": "markdown",
   "metadata": {},
   "source": [
    "* Retrieve the Item ID, Item Name, and Item Price columns\n",
    "\n",
    "\n",
    "* Group by Item ID and Item Name. Perform calculations to obtain purchase count, average item price, and total purchase value\n",
    "\n",
    "\n",
    "* Create a summary data frame to hold the results\n",
    "\n",
    "\n",
    "* Sort the purchase count column in descending order\n",
    "\n",
    "\n",
    "* Optional: give the displayed data cleaner formatting\n",
    "\n",
    "\n",
    "* Display a preview of the summary data frame\n",
    "\n"
   ]
  },
  {
   "cell_type": "code",
   "execution_count": 474,
   "metadata": {},
   "outputs": [
    {
     "data": {
      "text/html": [
       "<style  type=\"text/css\" >\n",
       "</style><table id=\"T_d9478a80_7f94_11eb_a087_8c8590b1688d\" ><thead>    <tr>        <th class=\"blank\" ></th>        <th class=\"blank level0\" ></th>        <th class=\"col_heading level0 col0\" >Purchase Count</th>        <th class=\"col_heading level0 col1\" >Item Price</th>        <th class=\"col_heading level0 col2\" >Total Purchase Value</th>    </tr>    <tr>        <th class=\"index_name level0\" >Item ID</th>        <th class=\"index_name level1\" >Item Name</th>        <th class=\"blank\" ></th>        <th class=\"blank\" ></th>        <th class=\"blank\" ></th>    </tr></thead><tbody>\n",
       "                <tr>\n",
       "                        <th id=\"T_d9478a80_7f94_11eb_a087_8c8590b1688dlevel0_row0\" class=\"row_heading level0 row0\" >92</th>\n",
       "                        <th id=\"T_d9478a80_7f94_11eb_a087_8c8590b1688dlevel1_row0\" class=\"row_heading level1 row0\" >Final Critic</th>\n",
       "                        <td id=\"T_d9478a80_7f94_11eb_a087_8c8590b1688drow0_col0\" class=\"data row0 col0\" >13</td>\n",
       "                        <td id=\"T_d9478a80_7f94_11eb_a087_8c8590b1688drow0_col1\" class=\"data row0 col1\" >$4.61</td>\n",
       "                        <td id=\"T_d9478a80_7f94_11eb_a087_8c8590b1688drow0_col2\" class=\"data row0 col2\" >$59.99</td>\n",
       "            </tr>\n",
       "            <tr>\n",
       "                        <th id=\"T_d9478a80_7f94_11eb_a087_8c8590b1688dlevel0_row1\" class=\"row_heading level0 row1\" >178</th>\n",
       "                        <th id=\"T_d9478a80_7f94_11eb_a087_8c8590b1688dlevel1_row1\" class=\"row_heading level1 row1\" >Oathbreaker, Last Hope of the Breaking Storm</th>\n",
       "                        <td id=\"T_d9478a80_7f94_11eb_a087_8c8590b1688drow1_col0\" class=\"data row1 col0\" >12</td>\n",
       "                        <td id=\"T_d9478a80_7f94_11eb_a087_8c8590b1688drow1_col1\" class=\"data row1 col1\" >$4.23</td>\n",
       "                        <td id=\"T_d9478a80_7f94_11eb_a087_8c8590b1688drow1_col2\" class=\"data row1 col2\" >$50.76</td>\n",
       "            </tr>\n",
       "            <tr>\n",
       "                        <th id=\"T_d9478a80_7f94_11eb_a087_8c8590b1688dlevel0_row2\" class=\"row_heading level0 row2\" >145</th>\n",
       "                        <th id=\"T_d9478a80_7f94_11eb_a087_8c8590b1688dlevel1_row2\" class=\"row_heading level1 row2\" >Fiery Glass Crusader</th>\n",
       "                        <td id=\"T_d9478a80_7f94_11eb_a087_8c8590b1688drow2_col0\" class=\"data row2 col0\" >9</td>\n",
       "                        <td id=\"T_d9478a80_7f94_11eb_a087_8c8590b1688drow2_col1\" class=\"data row2 col1\" >$4.58</td>\n",
       "                        <td id=\"T_d9478a80_7f94_11eb_a087_8c8590b1688drow2_col2\" class=\"data row2 col2\" >$41.22</td>\n",
       "            </tr>\n",
       "            <tr>\n",
       "                        <th id=\"T_d9478a80_7f94_11eb_a087_8c8590b1688dlevel0_row3\" class=\"row_heading level0 row3\" >132</th>\n",
       "                        <th id=\"T_d9478a80_7f94_11eb_a087_8c8590b1688dlevel1_row3\" class=\"row_heading level1 row3\" >Persuasion</th>\n",
       "                        <td id=\"T_d9478a80_7f94_11eb_a087_8c8590b1688drow3_col0\" class=\"data row3 col0\" >9</td>\n",
       "                        <td id=\"T_d9478a80_7f94_11eb_a087_8c8590b1688drow3_col1\" class=\"data row3 col1\" >$3.22</td>\n",
       "                        <td id=\"T_d9478a80_7f94_11eb_a087_8c8590b1688drow3_col2\" class=\"data row3 col2\" >$28.99</td>\n",
       "            </tr>\n",
       "            <tr>\n",
       "                        <th id=\"T_d9478a80_7f94_11eb_a087_8c8590b1688dlevel0_row4\" class=\"row_heading level0 row4\" >108</th>\n",
       "                        <th id=\"T_d9478a80_7f94_11eb_a087_8c8590b1688dlevel1_row4\" class=\"row_heading level1 row4\" >Extraction, Quickblade Of Trembling Hands</th>\n",
       "                        <td id=\"T_d9478a80_7f94_11eb_a087_8c8590b1688drow4_col0\" class=\"data row4 col0\" >9</td>\n",
       "                        <td id=\"T_d9478a80_7f94_11eb_a087_8c8590b1688drow4_col1\" class=\"data row4 col1\" >$3.53</td>\n",
       "                        <td id=\"T_d9478a80_7f94_11eb_a087_8c8590b1688drow4_col2\" class=\"data row4 col2\" >$31.77</td>\n",
       "            </tr>\n",
       "    </tbody></table>"
      ],
      "text/plain": [
       "<pandas.io.formats.style.Styler at 0x7fa75f3ca070>"
      ]
     },
     "execution_count": 474,
     "metadata": {},
     "output_type": "execute_result"
    }
   ],
   "source": [
    "items = purchase_data[[\"Item ID\", \"Item Name\", \"Price\"]]\n",
    "itemStatistics = items.groupby([\"Item ID\", \"Item Name\"])\n",
    "\n",
    "#item count\n",
    "item_PurchaseCount = itemStatistics[\"Price\"].count()\n",
    "#item_PurchaseCount.rename(index={\"\": \"Purchase Count\"})\n",
    "\n",
    "#item price\n",
    "item_price = total_purchaseValuE / item_PurchaseCount\n",
    "\n",
    "#total purchase value\n",
    "total_purchaseValuE = itemStatistics[\"Price\"].sum()\n",
    "\n",
    "the_popular_items = pd.DataFrame({\n",
    "    \"Purchase Count\": item_PurchaseCount,\n",
    "    \"Item Price\": item_price,\n",
    "    \"Total Purchase Value\": total_purchaseValuE\n",
    "})\n",
    "\n",
    "\n",
    "#sorting by most popular\n",
    "most_popular_items = the_popular_items.sort_values(\"Purchase Count\", ascending=False).head()\n",
    "most_popular_items\n",
    "\n",
    "most_popular_items.style.format({\"Item Price\": \"${:,.2f}\",\n",
    "                                \"Total Purchase Value\": \"${:,.2f}\"})\n"
   ]
  },
  {
   "cell_type": "markdown",
   "metadata": {},
   "source": [
    "## Most Profitable Items"
   ]
  },
  {
   "cell_type": "markdown",
   "metadata": {},
   "source": [
    "* Sort the above table by total purchase value in descending order\n",
    "\n",
    "\n",
    "* Optional: give the displayed data cleaner formatting\n",
    "\n",
    "\n",
    "* Display a preview of the data frame\n",
    "\n"
   ]
  },
  {
   "cell_type": "code",
   "execution_count": 479,
   "metadata": {
    "scrolled": true
   },
   "outputs": [
    {
     "data": {
      "text/html": [
       "<style  type=\"text/css\" >\n",
       "</style><table id=\"T_623007d2_7f95_11eb_a087_8c8590b1688d\" ><thead>    <tr>        <th class=\"blank\" ></th>        <th class=\"blank level0\" ></th>        <th class=\"col_heading level0 col0\" >Purchase Count</th>        <th class=\"col_heading level0 col1\" >Item Price</th>        <th class=\"col_heading level0 col2\" >Total Purchase Value</th>    </tr>    <tr>        <th class=\"index_name level0\" >Item ID</th>        <th class=\"index_name level1\" >Item Name</th>        <th class=\"blank\" ></th>        <th class=\"blank\" ></th>        <th class=\"blank\" ></th>    </tr></thead><tbody>\n",
       "                <tr>\n",
       "                        <th id=\"T_623007d2_7f95_11eb_a087_8c8590b1688dlevel0_row0\" class=\"row_heading level0 row0\" >92</th>\n",
       "                        <th id=\"T_623007d2_7f95_11eb_a087_8c8590b1688dlevel1_row0\" class=\"row_heading level1 row0\" >Final Critic</th>\n",
       "                        <td id=\"T_623007d2_7f95_11eb_a087_8c8590b1688drow0_col0\" class=\"data row0 col0\" >13</td>\n",
       "                        <td id=\"T_623007d2_7f95_11eb_a087_8c8590b1688drow0_col1\" class=\"data row0 col1\" >$4.61</td>\n",
       "                        <td id=\"T_623007d2_7f95_11eb_a087_8c8590b1688drow0_col2\" class=\"data row0 col2\" >$59.99</td>\n",
       "            </tr>\n",
       "            <tr>\n",
       "                        <th id=\"T_623007d2_7f95_11eb_a087_8c8590b1688dlevel0_row1\" class=\"row_heading level0 row1\" >178</th>\n",
       "                        <th id=\"T_623007d2_7f95_11eb_a087_8c8590b1688dlevel1_row1\" class=\"row_heading level1 row1\" >Oathbreaker, Last Hope of the Breaking Storm</th>\n",
       "                        <td id=\"T_623007d2_7f95_11eb_a087_8c8590b1688drow1_col0\" class=\"data row1 col0\" >12</td>\n",
       "                        <td id=\"T_623007d2_7f95_11eb_a087_8c8590b1688drow1_col1\" class=\"data row1 col1\" >$4.23</td>\n",
       "                        <td id=\"T_623007d2_7f95_11eb_a087_8c8590b1688drow1_col2\" class=\"data row1 col2\" >$50.76</td>\n",
       "            </tr>\n",
       "            <tr>\n",
       "                        <th id=\"T_623007d2_7f95_11eb_a087_8c8590b1688dlevel0_row2\" class=\"row_heading level0 row2\" >82</th>\n",
       "                        <th id=\"T_623007d2_7f95_11eb_a087_8c8590b1688dlevel1_row2\" class=\"row_heading level1 row2\" >Nirvana</th>\n",
       "                        <td id=\"T_623007d2_7f95_11eb_a087_8c8590b1688drow2_col0\" class=\"data row2 col0\" >9</td>\n",
       "                        <td id=\"T_623007d2_7f95_11eb_a087_8c8590b1688drow2_col1\" class=\"data row2 col1\" >$4.90</td>\n",
       "                        <td id=\"T_623007d2_7f95_11eb_a087_8c8590b1688drow2_col2\" class=\"data row2 col2\" >$44.10</td>\n",
       "            </tr>\n",
       "            <tr>\n",
       "                        <th id=\"T_623007d2_7f95_11eb_a087_8c8590b1688dlevel0_row3\" class=\"row_heading level0 row3\" >145</th>\n",
       "                        <th id=\"T_623007d2_7f95_11eb_a087_8c8590b1688dlevel1_row3\" class=\"row_heading level1 row3\" >Fiery Glass Crusader</th>\n",
       "                        <td id=\"T_623007d2_7f95_11eb_a087_8c8590b1688drow3_col0\" class=\"data row3 col0\" >9</td>\n",
       "                        <td id=\"T_623007d2_7f95_11eb_a087_8c8590b1688drow3_col1\" class=\"data row3 col1\" >$4.58</td>\n",
       "                        <td id=\"T_623007d2_7f95_11eb_a087_8c8590b1688drow3_col2\" class=\"data row3 col2\" >$41.22</td>\n",
       "            </tr>\n",
       "            <tr>\n",
       "                        <th id=\"T_623007d2_7f95_11eb_a087_8c8590b1688dlevel0_row4\" class=\"row_heading level0 row4\" >103</th>\n",
       "                        <th id=\"T_623007d2_7f95_11eb_a087_8c8590b1688dlevel1_row4\" class=\"row_heading level1 row4\" >Singed Scalpel</th>\n",
       "                        <td id=\"T_623007d2_7f95_11eb_a087_8c8590b1688drow4_col0\" class=\"data row4 col0\" >8</td>\n",
       "                        <td id=\"T_623007d2_7f95_11eb_a087_8c8590b1688drow4_col1\" class=\"data row4 col1\" >$4.35</td>\n",
       "                        <td id=\"T_623007d2_7f95_11eb_a087_8c8590b1688drow4_col2\" class=\"data row4 col2\" >$34.80</td>\n",
       "            </tr>\n",
       "    </tbody></table>"
      ],
      "text/plain": [
       "<pandas.io.formats.style.Styler at 0x7fa75f6dea90>"
      ]
     },
     "execution_count": 479,
     "metadata": {},
     "output_type": "execute_result"
    }
   ],
   "source": [
    "#sorting by most profitable\n",
    "most_profitable_items = the_popular_items.sort_values(\"Total Purchase Value\", ascending=False).head()\n",
    "most_profitable_items\n",
    "\n",
    "most_profitable_items.style.format({\"Item Price\": \"${:,.2f}\",\n",
    "                                \"Total Purchase Value\": \"${:,.2f}\"})"
   ]
  }
 ],
 "metadata": {
  "anaconda-cloud": {},
  "kernel_info": {
   "name": "python3"
  },
  "kernelspec": {
   "display_name": "Python 3",
   "language": "python",
   "name": "python3"
  },
  "language_info": {
   "codemirror_mode": {
    "name": "ipython",
    "version": 3
   },
   "file_extension": ".py",
   "mimetype": "text/x-python",
   "name": "python",
   "nbconvert_exporter": "python",
   "pygments_lexer": "ipython3",
   "version": "3.8.5"
  },
  "latex_envs": {
   "LaTeX_envs_menu_present": true,
   "autoclose": false,
   "autocomplete": true,
   "bibliofile": "biblio.bib",
   "cite_by": "apalike",
   "current_citInitial": 1,
   "eqLabelWithNumbers": true,
   "eqNumInitial": 1,
   "hotkeys": {
    "equation": "Ctrl-E",
    "itemize": "Ctrl-I"
   },
   "labels_anchors": false,
   "latex_user_defs": false,
   "report_style_numbering": false,
   "user_envs_cfg": false
  },
  "nteract": {
   "version": "0.2.0"
  }
 },
 "nbformat": 4,
 "nbformat_minor": 2
}
